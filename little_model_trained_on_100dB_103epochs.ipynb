{
 "cells": [
  {
   "cell_type": "code",
   "execution_count": 1,
   "metadata": {},
   "outputs": [
    {
     "name": "stderr",
     "output_type": "stream",
     "text": [
      "Using TensorFlow backend.\n"
     ]
    }
   ],
   "source": [
    "from tensorflow.keras.layers import Conv2D, MaxPooling2D, UpSampling2D, BatchNormalization, Flatten, Dense\n",
    "from tensorflow.keras.models import Sequential\n",
    "from tensorflow.keras.optimizers import Adam, SGD\n",
    "from tensorflow.keras.callbacks import ModelCheckpoint\n",
    "from tensorflow.keras.callbacks import ModelCheckpoint, EarlyStopping, CSVLogger, TensorBoard\n",
    "import numpy as np\n",
    "import matplotlib.pyplot as plt\n",
    "import os\n",
    "import cv2\n",
    "from keras.preprocessing.image import img_to_array\n",
    "from tqdm import tqdm\n",
    "import math"
   ]
  },
  {
   "cell_type": "code",
   "execution_count": 2,
   "metadata": {},
   "outputs": [],
   "source": [
    "height = 64\n",
    "width = 128\n",
    "channel = 3"
   ]
  },
  {
   "cell_type": "code",
   "execution_count": 3,
   "metadata": {},
   "outputs": [],
   "source": [
    "clean_data_path = 'D:\\\\intern\\\\classified_data\\\\clean_data\\\\extra_clean'\n",
    "noisy_15dB_path = 'D:\\\\intern\\\\classified_data\\\\noisy_data\\\\15dB\\\\extra_15dB'\n",
    "noisy_20dB_path = 'D:\\\\intern\\\\classified_data\\\\noisy_data\\\\20dB\\\\extra_20dB'\n",
    "noisy_25dB_path = 'D:\\\\intern\\\\classified_data\\\\noisy_data\\\\25dB\\\\extra_25dB'\n",
    "noisy_30dB_path = 'D:\\\\intern\\\\classified_data\\\\noisy_data\\\\30dB\\\\extra_30dB'\n",
    "noisy_100dB_path = 'D:\\\\intern\\\\classified_data\\\\noisy_data\\\\100dB\\\\extra_100dB'"
   ]
  },
  {
   "cell_type": "code",
   "execution_count": 4,
   "metadata": {},
   "outputs": [],
   "source": [
    "clean_data_files = os.listdir(clean_data_path)\n",
    "noisy_15dB_files = os.listdir(noisy_15dB_path)\n",
    "noisy_20dB_files = os.listdir(noisy_20dB_path)\n",
    "noisy_25dB_files = os.listdir(noisy_25dB_path)\n",
    "noisy_30dB_files = os.listdir(noisy_30dB_path)\n",
    "noisy_100dB_files = os.listdir(noisy_100dB_path)"
   ]
  },
  {
   "cell_type": "code",
   "execution_count": 5,
   "metadata": {},
   "outputs": [],
   "source": [
    "clean_data = np.zeros((len(clean_data_files), height, width, channel), dtype=np.float32)\n",
    "noisy_15dB = np.zeros((len(noisy_15dB_files), height, width, channel), dtype=np.float32)\n",
    "noisy_20dB = np.zeros((len(noisy_20dB_files), height, width, channel), dtype=np.float32)\n",
    "noisy_25dB = np.zeros((len(noisy_25dB_files), height, width, channel), dtype=np.float32)\n",
    "noisy_30dB = np.zeros((len(noisy_30dB_files), height, width, channel), dtype=np.float32)\n",
    "noisy_100dB = np.zeros((len(noisy_100dB_files), height, width, channel), dtype=np.float32)"
   ]
  },
  {
   "cell_type": "code",
   "execution_count": 6,
   "metadata": {},
   "outputs": [
    {
     "name": "stderr",
     "output_type": "stream",
     "text": [
      "100%|███████████████████████████████████████████████████████████████████████████████| 500/500 [00:00<00:00, 522.00it/s]\n"
     ]
    }
   ],
   "source": [
    "n=0\n",
    "for i in tqdm(clean_data_files):\n",
    "    img = cv2.imread(clean_data_path + '\\\\' + i, 1)\n",
    "    img = cv2.resize(img, (width, height)) / 255.\n",
    "    clean_data[n] = img\n",
    "    n = n+1"
   ]
  },
  {
   "cell_type": "code",
   "execution_count": 7,
   "metadata": {},
   "outputs": [
    {
     "name": "stderr",
     "output_type": "stream",
     "text": [
      "100%|███████████████████████████████████████████████████████████████████████████████| 500/500 [00:01<00:00, 458.57it/s]\n"
     ]
    }
   ],
   "source": [
    "n=0\n",
    "for i in tqdm(noisy_15dB_files):\n",
    "    img = cv2.imread(noisy_15dB_path + '\\\\' + i, 1)\n",
    "    img = cv2.resize(img, (width, height)) / 255.\n",
    "    noisy_15dB[n] = img\n",
    "    n = n+1"
   ]
  },
  {
   "cell_type": "code",
   "execution_count": 8,
   "metadata": {},
   "outputs": [
    {
     "name": "stderr",
     "output_type": "stream",
     "text": [
      "100%|███████████████████████████████████████████████████████████████████████████████| 500/500 [00:00<00:00, 515.55it/s]\n"
     ]
    }
   ],
   "source": [
    "n=0\n",
    "for i in tqdm(noisy_20dB_files):\n",
    "    img = cv2.imread(noisy_20dB_path + '\\\\' + i, 1)\n",
    "    img = cv2.resize(img, (width, height)) / 255.\n",
    "    noisy_20dB[n] = img\n",
    "    n = n+1"
   ]
  },
  {
   "cell_type": "code",
   "execution_count": 9,
   "metadata": {},
   "outputs": [
    {
     "name": "stderr",
     "output_type": "stream",
     "text": [
      "100%|████████████████████████████████████████████████████████████████████████████████| 500/500 [00:08<00:00, 55.83it/s]\n"
     ]
    }
   ],
   "source": [
    "n=0\n",
    "for i in tqdm(noisy_25dB_files):\n",
    "    img = cv2.imread(noisy_25dB_path + '\\\\' + i, 1)\n",
    "    img = cv2.resize(img, (width, height)) / 255.\n",
    "    noisy_25dB[n] = img\n",
    "    n = n+1"
   ]
  },
  {
   "cell_type": "code",
   "execution_count": 10,
   "metadata": {},
   "outputs": [
    {
     "name": "stderr",
     "output_type": "stream",
     "text": [
      "100%|████████████████████████████████████████████████████████████████████████████████| 500/500 [00:10<00:00, 47.00it/s]\n"
     ]
    }
   ],
   "source": [
    "n=0\n",
    "for i in tqdm(noisy_30dB_files):\n",
    "    img = cv2.imread(noisy_30dB_path + '\\\\' + i, 1)\n",
    "    img = cv2.resize(img, (width, height)) / 255.\n",
    "    noisy_30dB[n] = img\n",
    "    n = n+1"
   ]
  },
  {
   "cell_type": "code",
   "execution_count": 11,
   "metadata": {},
   "outputs": [
    {
     "name": "stderr",
     "output_type": "stream",
     "text": [
      "100%|████████████████████████████████████████████████████████████████████████████████| 500/500 [00:08<00:00, 57.85it/s]\n"
     ]
    }
   ],
   "source": [
    "n=0\n",
    "for i in tqdm(noisy_100dB_files):\n",
    "    img = cv2.imread(noisy_100dB_path + '\\\\' + i, 1)\n",
    "    img = cv2.resize(img, (width, height)) / 255.\n",
    "    noisy_100dB[n] = img\n",
    "    n = n+1"
   ]
  },
  {
   "cell_type": "code",
   "execution_count": 12,
   "metadata": {},
   "outputs": [
    {
     "data": {
      "text/plain": [
       "(500, 64, 128, 3)"
      ]
     },
     "execution_count": 12,
     "metadata": {},
     "output_type": "execute_result"
    }
   ],
   "source": [
    "clean_data.shape"
   ]
  },
  {
   "cell_type": "code",
   "execution_count": 20,
   "metadata": {},
   "outputs": [],
   "source": [
    "model = Sequential([\n",
    "    \n",
    "  # encoder\n",
    "    Conv2D(64, (3,3), padding=\"same\", activation=\"relu\", input_shape=(height,width,channel)),\n",
    "    Conv2D(64, (3,3), padding=\"same\", activation=\"relu\"),\n",
    "    BatchNormalization(),\n",
    "    MaxPooling2D((2,2),strides=(2,2)),\n",
    "    Conv2D(32, (3,3), padding=\"same\", activation=\"relu\"),\n",
    "    Conv2D(32, (3,3), padding=\"same\", activation=\"relu\"),\n",
    "    BatchNormalization(),\n",
    "    MaxPooling2D((2,2),strides=(2,2)),\n",
    "    Conv2D(16, (3,3), padding=\"same\", activation=\"relu\"),\n",
    "    Conv2D(16, (3,3), padding=\"same\", activation=\"relu\"),\n",
    "    Conv2D(16, (3,3), padding=\"same\", activation=\"relu\"),\n",
    "    BatchNormalization(),\n",
    "    MaxPooling2D((2,2),strides=(2,2)),\n",
    "    Conv2D(8, (3,3), padding=\"same\", activation=\"relu\"),\n",
    "    Conv2D(8, (3,3), padding=\"same\", activation=\"relu\"),\n",
    "    Conv2D(8, (3,3), padding=\"same\", activation=\"relu\"),\n",
    "    BatchNormalization(),\n",
    "    MaxPooling2D((2,2),strides=(2,2)),\n",
    "    \n",
    "    \n",
    "    # decoder\n",
    "    Conv2D(8, (3,3), padding=\"same\", activation=\"relu\"),\n",
    "    Conv2D(8, (3,3), padding=\"same\", activation=\"relu\"),\n",
    "    Conv2D(8, (3,3), padding=\"same\", activation=\"relu\"),\n",
    "    UpSampling2D((2,2)),\n",
    "    Conv2D(16, (3,3), padding=\"same\", activation=\"relu\"),\n",
    "    Conv2D(16, (3,3), padding=\"same\", activation=\"relu\"),\n",
    "    Conv2D(16, (3,3), padding=\"same\", activation=\"relu\"),\n",
    "    UpSampling2D((2,2)),\n",
    "    Conv2D(32, (3,3), padding=\"same\", activation=\"relu\"),\n",
    "    Conv2D(32, (3,3), padding=\"same\", activation=\"relu\"),\n",
    "    UpSampling2D((2,2)),\n",
    "    Conv2D(64, (3,3), padding=\"same\", activation=\"relu\"),\n",
    "    Conv2D(64, (3,3), padding=\"same\", activation=\"relu\"),\n",
    "    UpSampling2D((2,2)),\n",
    "    \n",
    "    Conv2D(channel, (3,3), padding=\"same\", activation=\"sigmoid\") # sigmoid, relu    \n",
    "])"
   ]
  },
  {
   "cell_type": "code",
   "execution_count": 21,
   "metadata": {},
   "outputs": [
    {
     "name": "stdout",
     "output_type": "stream",
     "text": [
      "Model: \"sequential_2\"\n",
      "_________________________________________________________________\n",
      "Layer (type)                 Output Shape              Param #   \n",
      "=================================================================\n",
      "conv2d_42 (Conv2D)           (None, 64, 128, 64)       1792      \n",
      "_________________________________________________________________\n",
      "conv2d_43 (Conv2D)           (None, 64, 128, 64)       36928     \n",
      "_________________________________________________________________\n",
      "batch_normalization_8 (Batch (None, 64, 128, 64)       256       \n",
      "_________________________________________________________________\n",
      "max_pooling2d_8 (MaxPooling2 (None, 32, 64, 64)        0         \n",
      "_________________________________________________________________\n",
      "conv2d_44 (Conv2D)           (None, 32, 64, 32)        18464     \n",
      "_________________________________________________________________\n",
      "conv2d_45 (Conv2D)           (None, 32, 64, 32)        9248      \n",
      "_________________________________________________________________\n",
      "batch_normalization_9 (Batch (None, 32, 64, 32)        128       \n",
      "_________________________________________________________________\n",
      "max_pooling2d_9 (MaxPooling2 (None, 16, 32, 32)        0         \n",
      "_________________________________________________________________\n",
      "conv2d_46 (Conv2D)           (None, 16, 32, 16)        4624      \n",
      "_________________________________________________________________\n",
      "conv2d_47 (Conv2D)           (None, 16, 32, 16)        2320      \n",
      "_________________________________________________________________\n",
      "conv2d_48 (Conv2D)           (None, 16, 32, 16)        2320      \n",
      "_________________________________________________________________\n",
      "batch_normalization_10 (Batc (None, 16, 32, 16)        64        \n",
      "_________________________________________________________________\n",
      "max_pooling2d_10 (MaxPooling (None, 8, 16, 16)         0         \n",
      "_________________________________________________________________\n",
      "conv2d_49 (Conv2D)           (None, 8, 16, 8)          1160      \n",
      "_________________________________________________________________\n",
      "conv2d_50 (Conv2D)           (None, 8, 16, 8)          584       \n",
      "_________________________________________________________________\n",
      "conv2d_51 (Conv2D)           (None, 8, 16, 8)          584       \n",
      "_________________________________________________________________\n",
      "batch_normalization_11 (Batc (None, 8, 16, 8)          32        \n",
      "_________________________________________________________________\n",
      "max_pooling2d_11 (MaxPooling (None, 4, 8, 8)           0         \n",
      "_________________________________________________________________\n",
      "conv2d_52 (Conv2D)           (None, 4, 8, 8)           584       \n",
      "_________________________________________________________________\n",
      "conv2d_53 (Conv2D)           (None, 4, 8, 8)           584       \n",
      "_________________________________________________________________\n",
      "conv2d_54 (Conv2D)           (None, 4, 8, 8)           584       \n",
      "_________________________________________________________________\n",
      "up_sampling2d_8 (UpSampling2 (None, 8, 16, 8)          0         \n",
      "_________________________________________________________________\n",
      "conv2d_55 (Conv2D)           (None, 8, 16, 16)         1168      \n",
      "_________________________________________________________________\n",
      "conv2d_56 (Conv2D)           (None, 8, 16, 16)         2320      \n",
      "_________________________________________________________________\n",
      "conv2d_57 (Conv2D)           (None, 8, 16, 16)         2320      \n",
      "_________________________________________________________________\n",
      "up_sampling2d_9 (UpSampling2 (None, 16, 32, 16)        0         \n",
      "_________________________________________________________________\n",
      "conv2d_58 (Conv2D)           (None, 16, 32, 32)        4640      \n",
      "_________________________________________________________________\n",
      "conv2d_59 (Conv2D)           (None, 16, 32, 32)        9248      \n",
      "_________________________________________________________________\n",
      "up_sampling2d_10 (UpSampling (None, 32, 64, 32)        0         \n",
      "_________________________________________________________________\n",
      "conv2d_60 (Conv2D)           (None, 32, 64, 64)        18496     \n",
      "_________________________________________________________________\n",
      "conv2d_61 (Conv2D)           (None, 32, 64, 64)        36928     \n",
      "_________________________________________________________________\n",
      "up_sampling2d_11 (UpSampling (None, 64, 128, 64)       0         \n",
      "_________________________________________________________________\n",
      "conv2d_62 (Conv2D)           (None, 64, 128, 3)        1731      \n",
      "=================================================================\n",
      "Total params: 157,107\n",
      "Trainable params: 156,867\n",
      "Non-trainable params: 240\n",
      "_________________________________________________________________\n"
     ]
    }
   ],
   "source": [
    "model.summary()"
   ]
  },
  {
   "cell_type": "code",
   "execution_count": 122,
   "metadata": {},
   "outputs": [],
   "source": [
    "early_stop = EarlyStopping(\n",
    "                monitor='val_loss',\n",
    "                patience=10, #n of epochs with no improvement which will be stopped training\n",
    "                verbose=1\n",
    "            )\n",
    "\n",
    "log_csv = CSVLogger('logs_100dB.csv',\n",
    "                   separator=',',\n",
    "                   append=False\n",
    "                   )\n",
    "\n",
    "tensorboard = TensorBoard(\n",
    "                log_dir='logs_100dB'\n",
    "            )\n",
    "\n",
    "# callbacks_list = [early_stop, log_csv, tensorboard]"
   ]
  },
  {
   "cell_type": "code",
   "execution_count": 29,
   "metadata": {},
   "outputs": [],
   "source": [
    "model.compile(optimizer=Adam(lr=0.0001), loss='mse', metrics=['accuracy'])"
   ]
  },
  {
   "cell_type": "code",
   "execution_count": null,
   "metadata": {},
   "outputs": [
    {
     "name": "stdout",
     "output_type": "stream",
     "text": [
      "Train on 450 samples, validate on 50 samples\n",
      "Epoch 1/500\n",
      "450/450 [==============================] - 57s 128ms/sample - loss: 0.0146 - accuracy: 0.3573 - val_loss: 0.0257 - val_accuracy: 0.4319\n",
      "Epoch 2/500\n",
      "450/450 [==============================] - 56s 124ms/sample - loss: 0.0133 - accuracy: 0.3479 - val_loss: 0.0196 - val_accuracy: 0.3049\n",
      "Epoch 3/500\n",
      "450/450 [==============================] - 56s 125ms/sample - loss: 0.0126 - accuracy: 0.3440 - val_loss: 0.0162 - val_accuracy: 0.2846\n",
      "Epoch 4/500\n",
      "450/450 [==============================] - 56s 124ms/sample - loss: 0.0123 - accuracy: 0.3398 - val_loss: 0.0114 - val_accuracy: 0.3310\n",
      "Epoch 5/500\n",
      "450/450 [==============================] - 57s 126ms/sample - loss: 0.0118 - accuracy: 0.3408 - val_loss: 0.0094 - val_accuracy: 0.3332\n",
      "Epoch 6/500\n",
      "450/450 [==============================] - 57s 127ms/sample - loss: 0.0117 - accuracy: 0.3424 - val_loss: 0.0090 - val_accuracy: 0.2733\n",
      "Epoch 7/500\n",
      "450/450 [==============================] - 57s 126ms/sample - loss: 0.0114 - accuracy: 0.3397 - val_loss: 0.0089 - val_accuracy: 0.2766\n",
      "Epoch 8/500\n",
      "450/450 [==============================] - 56s 125ms/sample - loss: 0.0112 - accuracy: 0.3341 - val_loss: 0.0085 - val_accuracy: 0.3163\n",
      "Epoch 9/500\n",
      "450/450 [==============================] - 56s 124ms/sample - loss: 0.0111 - accuracy: 0.3439 - val_loss: 0.0086 - val_accuracy: 0.2989\n",
      "Epoch 10/500\n",
      "450/450 [==============================] - 56s 125ms/sample - loss: 0.0107 - accuracy: 0.3354 - val_loss: 0.0080 - val_accuracy: 0.3343\n",
      "Epoch 11/500\n",
      "450/450 [==============================] - 57s 126ms/sample - loss: 0.0107 - accuracy: 0.3401 - val_loss: 0.0090 - val_accuracy: 0.3518\n",
      "Epoch 12/500\n",
      "450/450 [==============================] - 57s 126ms/sample - loss: 0.0104 - accuracy: 0.3400 - val_loss: 0.0082 - val_accuracy: 0.3704\n",
      "Epoch 13/500\n",
      "450/450 [==============================] - 56s 125ms/sample - loss: 0.0103 - accuracy: 0.3438 - val_loss: 0.0081 - val_accuracy: 0.3600\n",
      "Epoch 14/500\n",
      "450/450 [==============================] - 56s 125ms/sample - loss: 0.0105 - accuracy: 0.3461 - val_loss: 0.0094 - val_accuracy: 0.2812\n",
      "Epoch 15/500\n",
      "450/450 [==============================] - 57s 126ms/sample - loss: 0.0102 - accuracy: 0.3526 - val_loss: 0.0083 - val_accuracy: 0.3375\n",
      "Epoch 16/500\n",
      "450/450 [==============================] - 57s 127ms/sample - loss: 0.0100 - accuracy: 0.3416 - val_loss: 0.0091 - val_accuracy: 0.3891\n",
      "Epoch 17/500\n",
      "450/450 [==============================] - 57s 126ms/sample - loss: 0.0101 - accuracy: 0.3456 - val_loss: 0.0078 - val_accuracy: 0.4094\n",
      "Epoch 18/500\n",
      "450/450 [==============================] - 56s 124ms/sample - loss: 0.0099 - accuracy: 0.3474 - val_loss: 0.0075 - val_accuracy: 0.3566\n",
      "Epoch 19/500\n",
      "450/450 [==============================] - 54s 120ms/sample - loss: 0.0098 - accuracy: 0.3487 - val_loss: 0.0078 - val_accuracy: 0.3613\n",
      "Epoch 20/500\n",
      "450/450 [==============================] - 55s 121ms/sample - loss: 0.0098 - accuracy: 0.3567 - val_loss: 0.0079 - val_accuracy: 0.3052\n",
      "Epoch 21/500\n",
      "450/450 [==============================] - 54s 120ms/sample - loss: 0.0098 - accuracy: 0.3474 - val_loss: 0.0081 - val_accuracy: 0.3278\n",
      "Epoch 22/500\n",
      "450/450 [==============================] - 54s 121ms/sample - loss: 0.0097 - accuracy: 0.3444 - val_loss: 0.0078 - val_accuracy: 0.3172\n",
      "Epoch 23/500\n",
      "450/450 [==============================] - 54s 120ms/sample - loss: 0.0095 - accuracy: 0.3562 - val_loss: 0.0076 - val_accuracy: 0.3117\n",
      "Epoch 24/500\n",
      "450/450 [==============================] - 54s 120ms/sample - loss: 0.0093 - accuracy: 0.3514 - val_loss: 0.0073 - val_accuracy: 0.3460\n",
      "Epoch 25/500\n",
      "450/450 [==============================] - 54s 120ms/sample - loss: 0.0094 - accuracy: 0.3522 - val_loss: 0.0071 - val_accuracy: 0.2981\n",
      "Epoch 26/500\n",
      "450/450 [==============================] - 54s 120ms/sample - loss: 0.0092 - accuracy: 0.3528 - val_loss: 0.0076 - val_accuracy: 0.3540\n",
      "Epoch 27/500\n",
      "450/450 [==============================] - 54s 120ms/sample - loss: 0.0092 - accuracy: 0.3446 - val_loss: 0.0069 - val_accuracy: 0.3130\n",
      "Epoch 28/500\n",
      "450/450 [==============================] - 54s 120ms/sample - loss: 0.0090 - accuracy: 0.3524 - val_loss: 0.0098 - val_accuracy: 0.3002\n",
      "Epoch 29/500\n",
      "450/450 [==============================] - 54s 121ms/sample - loss: 0.0091 - accuracy: 0.3523 - val_loss: 0.0068 - val_accuracy: 0.3021\n",
      "Epoch 30/500\n",
      "450/450 [==============================] - 54s 120ms/sample - loss: 0.0091 - accuracy: 0.3505 - val_loss: 0.0076 - val_accuracy: 0.3066\n",
      "Epoch 31/500\n",
      "450/450 [==============================] - 54s 120ms/sample - loss: 0.0089 - accuracy: 0.3545 - val_loss: 0.0068 - val_accuracy: 0.3097\n",
      "Epoch 32/500\n",
      "450/450 [==============================] - 54s 120ms/sample - loss: 0.0089 - accuracy: 0.3524 - val_loss: 0.0069 - val_accuracy: 0.3118\n",
      "Epoch 33/500\n",
      "450/450 [==============================] - 54s 120ms/sample - loss: 0.0090 - accuracy: 0.3560 - val_loss: 0.0076 - val_accuracy: 0.3269\n",
      "Epoch 34/500\n",
      "450/450 [==============================] - 54s 120ms/sample - loss: 0.0089 - accuracy: 0.3488 - val_loss: 0.0067 - val_accuracy: 0.3945\n",
      "Epoch 35/500\n",
      "450/450 [==============================] - 54s 121ms/sample - loss: 0.0087 - accuracy: 0.3481 - val_loss: 0.0066 - val_accuracy: 0.3257\n",
      "Epoch 36/500\n",
      "450/450 [==============================] - 54s 121ms/sample - loss: 0.0087 - accuracy: 0.3510 - val_loss: 0.0066 - val_accuracy: 0.3285\n",
      "Epoch 37/500\n",
      "450/450 [==============================] - 55s 121ms/sample - loss: 0.0089 - accuracy: 0.3541 - val_loss: 0.0071 - val_accuracy: 0.3209\n",
      "Epoch 38/500\n",
      "450/450 [==============================] - 54s 121ms/sample - loss: 0.0090 - accuracy: 0.3563 - val_loss: 0.0073 - val_accuracy: 0.3411\n",
      "Epoch 39/500\n",
      "450/450 [==============================] - 55s 122ms/sample - loss: 0.0088 - accuracy: 0.3521 - val_loss: 0.0064 - val_accuracy: 0.3051\n",
      "Epoch 40/500\n",
      "450/450 [==============================] - 54s 120ms/sample - loss: 0.0088 - accuracy: 0.3504 - val_loss: 0.0066 - val_accuracy: 0.3386\n",
      "Epoch 41/500\n",
      "450/450 [==============================] - 54s 120ms/sample - loss: 0.0085 - accuracy: 0.3542 - val_loss: 0.0066 - val_accuracy: 0.3140\n",
      "Epoch 42/500\n",
      "450/450 [==============================] - 54s 120ms/sample - loss: 0.0084 - accuracy: 0.3509 - val_loss: 0.0067 - val_accuracy: 0.3212\n",
      "Epoch 43/500\n",
      "450/450 [==============================] - 55s 122ms/sample - loss: 0.0087 - accuracy: 0.3559 - val_loss: 0.0066 - val_accuracy: 0.3283\n",
      "Epoch 44/500\n",
      "450/450 [==============================] - 54s 120ms/sample - loss: 0.0084 - accuracy: 0.3471 - val_loss: 0.0070 - val_accuracy: 0.3598\n",
      "Epoch 45/500\n",
      "450/450 [==============================] - 54s 120ms/sample - loss: 0.0083 - accuracy: 0.3518 - val_loss: 0.0084 - val_accuracy: 0.3250\n",
      "Epoch 46/500\n",
      "450/450 [==============================] - 54s 121ms/sample - loss: 0.0083 - accuracy: 0.3489 - val_loss: 0.0067 - val_accuracy: 0.3315\n",
      "Epoch 47/500\n",
      "450/450 [==============================] - 54s 121ms/sample - loss: 0.0084 - accuracy: 0.3533 - val_loss: 0.0068 - val_accuracy: 0.3329\n",
      "Epoch 48/500\n",
      "450/450 [==============================] - 54s 119ms/sample - loss: 0.0084 - accuracy: 0.3536 - val_loss: 0.0071 - val_accuracy: 0.3369\n",
      "Epoch 49/500\n",
      "450/450 [==============================] - 54s 120ms/sample - loss: 0.0084 - accuracy: 0.3491 - val_loss: 0.0065 - val_accuracy: 0.3264\n",
      "Epoch 50/500\n",
      "450/450 [==============================] - 54s 120ms/sample - loss: 0.0083 - accuracy: 0.3525 - val_loss: 0.0070 - val_accuracy: 0.3134\n",
      "Epoch 51/500\n",
      "450/450 [==============================] - 54s 120ms/sample - loss: 0.0084 - accuracy: 0.3509 - val_loss: 0.0064 - val_accuracy: 0.3373\n",
      "Epoch 52/500\n",
      "450/450 [==============================] - 54s 120ms/sample - loss: 0.0083 - accuracy: 0.3496 - val_loss: 0.0067 - val_accuracy: 0.3140\n",
      "Epoch 53/500\n",
      "450/450 [==============================] - 54s 120ms/sample - loss: 0.0082 - accuracy: 0.3511 - val_loss: 0.0068 - val_accuracy: 0.3348\n",
      "Epoch 54/500\n",
      "450/450 [==============================] - 54s 120ms/sample - loss: 0.0083 - accuracy: 0.3507 - val_loss: 0.0067 - val_accuracy: 0.3326\n",
      "Epoch 55/500\n",
      "450/450 [==============================] - 54s 120ms/sample - loss: 0.0082 - accuracy: 0.3534 - val_loss: 0.0069 - val_accuracy: 0.3076\n"
     ]
    },
    {
     "name": "stdout",
     "output_type": "stream",
     "text": [
      "Epoch 56/500\n",
      "450/450 [==============================] - 54s 120ms/sample - loss: 0.0081 - accuracy: 0.3473 - val_loss: 0.0063 - val_accuracy: 0.3529\n",
      "Epoch 57/500\n",
      "450/450 [==============================] - 54s 120ms/sample - loss: 0.0082 - accuracy: 0.3550 - val_loss: 0.0061 - val_accuracy: 0.3222\n",
      "Epoch 58/500\n",
      "450/450 [==============================] - 54s 120ms/sample - loss: 0.0081 - accuracy: 0.3440 - val_loss: 0.0063 - val_accuracy: 0.3362\n",
      "Epoch 59/500\n",
      "450/450 [==============================] - 54s 119ms/sample - loss: 0.0080 - accuracy: 0.3516 - val_loss: 0.0065 - val_accuracy: 0.3355\n",
      "Epoch 60/500\n",
      "450/450 [==============================] - 54s 120ms/sample - loss: 0.0081 - accuracy: 0.3504 - val_loss: 0.0064 - val_accuracy: 0.3315\n",
      "Epoch 61/500\n",
      "450/450 [==============================] - 54s 120ms/sample - loss: 0.0081 - accuracy: 0.3502 - val_loss: 0.0062 - val_accuracy: 0.3421\n",
      "Epoch 62/500\n",
      "450/450 [==============================] - 54s 119ms/sample - loss: 0.0081 - accuracy: 0.3486 - val_loss: 0.0076 - val_accuracy: 0.3090\n",
      "Epoch 63/500\n",
      "450/450 [==============================] - 54s 120ms/sample - loss: 0.0081 - accuracy: 0.3482 - val_loss: 0.0062 - val_accuracy: 0.3258\n",
      "Epoch 64/500\n",
      "450/450 [==============================] - 54s 120ms/sample - loss: 0.0080 - accuracy: 0.3491 - val_loss: 0.0061 - val_accuracy: 0.3386\n",
      "Epoch 65/500\n",
      "450/450 [==============================] - 54s 120ms/sample - loss: 0.0080 - accuracy: 0.3462 - val_loss: 0.0062 - val_accuracy: 0.3273\n",
      "Epoch 66/500\n",
      "450/450 [==============================] - 54s 120ms/sample - loss: 0.0080 - accuracy: 0.3502 - val_loss: 0.0063 - val_accuracy: 0.3268\n",
      "Epoch 67/500\n",
      "450/450 [==============================] - 54s 120ms/sample - loss: 0.0081 - accuracy: 0.3463 - val_loss: 0.0063 - val_accuracy: 0.3434\n",
      "Epoch 68/500\n",
      "450/450 [==============================] - 54s 120ms/sample - loss: 0.0079 - accuracy: 0.3469 - val_loss: 0.0074 - val_accuracy: 0.3364\n",
      "Epoch 69/500\n",
      "450/450 [==============================] - 54s 120ms/sample - loss: 0.0080 - accuracy: 0.3484 - val_loss: 0.0065 - val_accuracy: 0.3197\n",
      "Epoch 70/500\n",
      "450/450 [==============================] - 54s 120ms/sample - loss: 0.0078 - accuracy: 0.3483 - val_loss: 0.0062 - val_accuracy: 0.3282\n",
      "Epoch 71/500\n",
      "450/450 [==============================] - 54s 120ms/sample - loss: 0.0079 - accuracy: 0.3479 - val_loss: 0.0066 - val_accuracy: 0.3462\n",
      "Epoch 72/500\n",
      "450/450 [==============================] - 54s 120ms/sample - loss: 0.0080 - accuracy: 0.3438 - val_loss: 0.0070 - val_accuracy: 0.3535\n",
      "Epoch 73/500\n",
      "450/450 [==============================] - 54s 120ms/sample - loss: 0.0079 - accuracy: 0.3524 - val_loss: 0.0063 - val_accuracy: 0.3607\n",
      "Epoch 74/500\n",
      "450/450 [==============================] - 54s 120ms/sample - loss: 0.0078 - accuracy: 0.3514 - val_loss: 0.0064 - val_accuracy: 0.3333\n",
      "Epoch 75/500\n",
      "450/450 [==============================] - 54s 120ms/sample - loss: 0.0077 - accuracy: 0.3436 - val_loss: 0.0062 - val_accuracy: 0.3425\n",
      "Epoch 76/500\n",
      "450/450 [==============================] - 54s 120ms/sample - loss: 0.0078 - accuracy: 0.3498 - val_loss: 0.0067 - val_accuracy: 0.3461\n",
      "Epoch 77/500\n",
      "450/450 [==============================] - 59s 131ms/sample - loss: 0.0078 - accuracy: 0.3502 - val_loss: 0.0069 - val_accuracy: 0.3476\n",
      "Epoch 78/500\n",
      "450/450 [==============================] - 58s 128ms/sample - loss: 0.0078 - accuracy: 0.3464 - val_loss: 0.0060 - val_accuracy: 0.3243\n",
      "Epoch 79/500\n",
      "450/450 [==============================] - 58s 128ms/sample - loss: 0.0078 - accuracy: 0.3509 - val_loss: 0.0061 - val_accuracy: 0.3405\n",
      "Epoch 80/500\n",
      "450/450 [==============================] - 54s 120ms/sample - loss: 0.0078 - accuracy: 0.3520 - val_loss: 0.0063 - val_accuracy: 0.3316\n",
      "Epoch 81/500\n",
      "450/450 [==============================] - 54s 120ms/sample - loss: 0.0077 - accuracy: 0.3504 - val_loss: 0.0060 - val_accuracy: 0.3237\n",
      "Epoch 82/500\n",
      "450/450 [==============================] - 55s 122ms/sample - loss: 0.0076 - accuracy: 0.3496 - val_loss: 0.0061 - val_accuracy: 0.3396\n",
      "Epoch 83/500\n",
      "450/450 [==============================] - 54s 121ms/sample - loss: 0.0078 - accuracy: 0.3469 - val_loss: 0.0063 - val_accuracy: 0.3168\n",
      "Epoch 84/500\n",
      "450/450 [==============================] - 54s 120ms/sample - loss: 0.0079 - accuracy: 0.3522 - val_loss: 0.0062 - val_accuracy: 0.3708\n",
      "Epoch 85/500\n",
      "450/450 [==============================] - 54s 120ms/sample - loss: 0.0077 - accuracy: 0.3515 - val_loss: 0.0065 - val_accuracy: 0.3334\n",
      "Epoch 86/500\n",
      "450/450 [==============================] - 54s 120ms/sample - loss: 0.0076 - accuracy: 0.3466 - val_loss: 0.0060 - val_accuracy: 0.3551\n",
      "Epoch 87/500\n",
      "450/450 [==============================] - 54s 120ms/sample - loss: 0.0075 - accuracy: 0.3503 - val_loss: 0.0061 - val_accuracy: 0.3392\n",
      "Epoch 88/500\n",
      "450/450 [==============================] - 54s 120ms/sample - loss: 0.0076 - accuracy: 0.3520 - val_loss: 0.0063 - val_accuracy: 0.3208\n",
      "Epoch 89/500\n",
      "450/450 [==============================] - 55s 123ms/sample - loss: 0.0076 - accuracy: 0.3502 - val_loss: 0.0059 - val_accuracy: 0.3552\n",
      "Epoch 90/500\n",
      "450/450 [==============================] - 56s 124ms/sample - loss: 0.0076 - accuracy: 0.3520 - val_loss: 0.0059 - val_accuracy: 0.3393\n",
      "Epoch 91/500\n",
      "450/450 [==============================] - 56s 124ms/sample - loss: 0.0077 - accuracy: 0.3510 - val_loss: 0.0062 - val_accuracy: 0.3260\n",
      "Epoch 92/500\n",
      "450/450 [==============================] - 55s 123ms/sample - loss: 0.0075 - accuracy: 0.3498 - val_loss: 0.0062 - val_accuracy: 0.3518\n",
      "Epoch 93/500\n",
      "450/450 [==============================] - 56s 124ms/sample - loss: 0.0075 - accuracy: 0.3537 - val_loss: 0.0063 - val_accuracy: 0.3641\n",
      "Epoch 94/500\n",
      "450/450 [==============================] - 56s 124ms/sample - loss: 0.0074 - accuracy: 0.3507 - val_loss: 0.0061 - val_accuracy: 0.3501\n",
      "Epoch 95/500\n",
      "450/450 [==============================] - 56s 124ms/sample - loss: 0.0075 - accuracy: 0.3494 - val_loss: 0.0061 - val_accuracy: 0.3721\n",
      "Epoch 96/500\n",
      "450/450 [==============================] - 55s 123ms/sample - loss: 0.0075 - accuracy: 0.3556 - val_loss: 0.0060 - val_accuracy: 0.3193\n",
      "Epoch 97/500\n",
      "450/450 [==============================] - 55s 123ms/sample - loss: 0.0075 - accuracy: 0.3482 - val_loss: 0.0059 - val_accuracy: 0.3541\n",
      "Epoch 98/500\n",
      "450/450 [==============================] - 56s 124ms/sample - loss: 0.0075 - accuracy: 0.3511 - val_loss: 0.0061 - val_accuracy: 0.3438\n",
      "Epoch 99/500\n",
      "450/450 [==============================] - 56s 123ms/sample - loss: 0.0075 - accuracy: 0.3524 - val_loss: 0.0064 - val_accuracy: 0.3339\n",
      "Epoch 100/500\n",
      "450/450 [==============================] - 56s 124ms/sample - loss: 0.0075 - accuracy: 0.3497 - val_loss: 0.0061 - val_accuracy: 0.3347\n",
      "Epoch 101/500\n",
      "450/450 [==============================] - 56s 123ms/sample - loss: 0.0074 - accuracy: 0.3522 - val_loss: 0.0061 - val_accuracy: 0.3396\n",
      "Epoch 102/500\n",
      "450/450 [==============================] - 56s 124ms/sample - loss: 0.0074 - accuracy: 0.3503 - val_loss: 0.0060 - val_accuracy: 0.3536\n",
      "Epoch 103/500\n",
      "450/450 [==============================] - 56s 125ms/sample - loss: 0.0075 - accuracy: 0.3503 - val_loss: 0.0063 - val_accuracy: 0.3482\n",
      "Epoch 104/500\n",
      "256/450 [================>.............] - ETA: 22s - loss: 0.0077 - accuracy: 0.3570"
     ]
    }
   ],
   "source": [
    "history = model.fit(noisy_100dB, clean_data,\n",
    "          validation_split=0.1,\n",
    "          batch_size=8,\n",
    "          epochs=500,\n",
    "          #callbacks=callbacks_list\n",
    "        )"
   ]
  },
  {
   "cell_type": "code",
   "execution_count": null,
   "metadata": {},
   "outputs": [],
   "source": [
    "plt.rcParams['figure.figsize'] = (17,6)\n",
    "fig, ax1 = plt.subplots()\n",
    "xepochs = range(1,len(history.history['loss']) + 1)\n",
    "\n",
    "plt.plot(xepochs, history.history['loss'], label = 'loss')\n",
    "plt.plot(xepochs, history.history['val_loss'], label = 'val_loss')\n",
    "plt.title('Loss')\n",
    "plt.legend()\n",
    "plt.show()\n",
    "\n",
    "plt.plot(xepochs, history.history['accuracy'], label = 'accuracy')\n",
    "plt.plot(xepochs, history.history['val_accuracy'], label = 'val_accuracy')\n",
    "plt.title('Metrics (Accuracy)')\n",
    "plt.legend()\n",
    "plt.show()"
   ]
  },
  {
   "cell_type": "code",
   "execution_count": null,
   "metadata": {},
   "outputs": [],
   "source": [
    "decoded_15dB = model.predict(noisy_15dB)\n",
    "decoded_20dB = model.predict(noisy_20dB)\n",
    "decoded_25dB = model.predict(noisy_25dB)\n",
    "decoded_30dB = model.predict(noisy_30dB)"
   ]
  },
  {
   "cell_type": "code",
   "execution_count": null,
   "metadata": {},
   "outputs": [],
   "source": [
    "# Displaying prediction images\n",
    "plt.figure(figsize=(17,4))\n",
    "for i in range(1,7):\n",
    "    ax = plt.subplot(1,7,i)\n",
    "    plt.imshow(noisy_20dB[i])\n",
    "plt.show()\n",
    "\n",
    "# Displaying prediction_train images\n",
    "plt.figure(figsize=(17,4))\n",
    "for i in range(1,7):\n",
    "    ax = plt.subplot(1,7,i)\n",
    "    plt.imshow(decoded_20dB[i])\n",
    "plt.show()"
   ]
  },
  {
   "cell_type": "code",
   "execution_count": null,
   "metadata": {},
   "outputs": [],
   "source": [
    "def PSNR(original, compressed): \n",
    "    mse = np.mean((original - compressed) ** 2) \n",
    "    if(mse == 0):  # MSE is zero means no noise is present in the signal . \n",
    "                  # Therefore PSNR have no importance. \n",
    "        return 100\n",
    "    max_pixel = 255.0\n",
    "    psnr = 20 * math.log10(max_pixel / math.sqrt(mse)) \n",
    "    return psnr"
   ]
  },
  {
   "cell_type": "code",
   "execution_count": null,
   "metadata": {},
   "outputs": [],
   "source": [
    "print(f'15dB PSNR mean: {PSNR(noisy_15dB, decoded_15dB)}')\n",
    "\n",
    "for i in range(len(noisy_15dB)):\n",
    "    \n",
    "    value = PSNR(noisy_15dB[i], decoded_15dB[i]) \n",
    "    print(f\"PSNR value is {value} dB\")"
   ]
  },
  {
   "cell_type": "code",
   "execution_count": null,
   "metadata": {},
   "outputs": [],
   "source": [
    "print(f'20dB PSNR mean: {PSNR(noisy_20dB, decoded_20dB)}')\n",
    "\n",
    "for i in range(len(noisy_20dB)):\n",
    "    \n",
    "    value = PSNR(noisy_20dB[i], decoded_20dB[i]) \n",
    "    print(f\"PSNR value is {value} dB\")"
   ]
  },
  {
   "cell_type": "code",
   "execution_count": null,
   "metadata": {},
   "outputs": [],
   "source": [
    "print(f'25dB PSNR mean: {PSNR(noisy_25dB, decoded_25dB)}')\n",
    "\n",
    "for i in range(len(noisy_25dB)):\n",
    "    \n",
    "    value = PSNR(noisy_25dB[i], decoded_25dB[i]) \n",
    "    print(f\"PSNR value is {value} dB\")"
   ]
  },
  {
   "cell_type": "code",
   "execution_count": null,
   "metadata": {},
   "outputs": [],
   "source": [
    "print(f'30dB PSNR mean: {PSNR(noisy_30dB, decoded_30dB)}')\n",
    "\n",
    "for i in range(len(noisy_30dB)):\n",
    "    \n",
    "    value = PSNR(noisy_30dB[i], decoded_30dB[i]) \n",
    "    print(f\"PSNR value is {value} dB\")"
   ]
  },
  {
   "cell_type": "code",
   "execution_count": null,
   "metadata": {},
   "outputs": [],
   "source": []
  }
 ],
 "metadata": {
  "kernelspec": {
   "display_name": "Python 3",
   "language": "python",
   "name": "python3"
  },
  "language_info": {
   "codemirror_mode": {
    "name": "ipython",
    "version": 3
   },
   "file_extension": ".py",
   "mimetype": "text/x-python",
   "name": "python",
   "nbconvert_exporter": "python",
   "pygments_lexer": "ipython3",
   "version": "3.7.7"
  }
 },
 "nbformat": 4,
 "nbformat_minor": 4
}
